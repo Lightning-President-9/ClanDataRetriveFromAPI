{
  "nbformat": 4,
  "nbformat_minor": 0,
  "metadata": {
    "colab": {
      "provenance": []
    },
    "kernelspec": {
      "name": "python3",
      "display_name": "Python 3"
    },
    "language_info": {
      "name": "python"
    }
  },
  "cells": [
    {
      "cell_type": "code",
      "execution_count": null,
      "metadata": {
        "colab": {
          "base_uri": "https://localhost:8080/"
        },
        "id": "wRQVK95EZV-D",
        "outputId": "881e456f-f71e-40ec-ca67-7bea4272c2d9"
      },
      "outputs": [
        {
          "output_type": "stream",
          "name": "stdout",
          "text": [
            "Data saved to mem_data.xlsx , mem_data.csv and mem_data.json\n"
          ]
        }
      ],
      "source": [
        "import requests\n",
        "import pandas as pd\n",
        "\n",
        "# URL of the API\n",
        "url = 'https://coc-ancient-ruins-website.onrender.com/api/mem'\n",
        "\n",
        "# Fetching the data\n",
        "response = requests.get(url)\n",
        "data = response.json()\n",
        "\n",
        "df = pd.DataFrame(data)\n",
        "\n",
        "# Saving the data to an Excel file\n",
        "output_xlsx = 'mem_data.xlsx'\n",
        "output_csv = 'mem_data.csv'\n",
        "output_json = 'mem_data.json'\n",
        "df.to_excel(output_xlsx, index=False)\n",
        "df.to_csv(output_csv, index=False)\n",
        "df.to_json(output_json, orient='records', lines=True)\n",
        "\n",
        "print(f\"Data saved to {output_xlsx} , {output_csv} and {output_json}\")\n"
      ]
    },
    {
      "cell_type": "code",
      "source": [
        "import requests\n",
        "import pandas as pd\n",
        "\n",
        "# URL of the API\n",
        "url = 'https://coc-ancient-ruins-website.onrender.com/api/fmem'\n",
        "\n",
        "# Fetching the data\n",
        "response = requests.get(url)\n",
        "data = response.json()\n",
        "\n",
        "df = pd.DataFrame(data)\n",
        "\n",
        "# Saving the data to an Excel file\n",
        "output_xlsx = 'fmem_data.xlsx'\n",
        "output_csv = 'fmem_data.csv'\n",
        "output_json = 'fmem_data.json'\n",
        "df.to_excel(output_xlsx, index=False)\n",
        "df.to_csv(output_csv, index=False)\n",
        "df.to_json(output_json, orient='records', lines=True)\n",
        "\n",
        "print(f\"Data saved to {output_xlsx} , {output_csv} and {output_json}\")\n"
      ],
      "metadata": {
        "colab": {
          "base_uri": "https://localhost:8080/"
        },
        "id": "yqR1sKfhiXoR",
        "outputId": "d7d622b7-d546-45bd-ece8-4925c125c31d"
      },
      "execution_count": null,
      "outputs": [
        {
          "output_type": "stream",
          "name": "stdout",
          "text": [
            "Data saved to fmem_data.xlsx , fmem_data.csv and fmem_data.json\n"
          ]
        }
      ]
    }
  ]
}